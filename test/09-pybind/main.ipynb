{
 "cells": [
  {
   "cell_type": "code",
   "execution_count": null,
   "id": "a68acc3a",
   "metadata": {},
   "outputs": [],
   "source": [
    "import sys\n",
    "sys.path.append('../../build')\n",
    "print(sys.version)\n",
    "import numpy as np\n",
    "import libry as ry\n",
    "import libpybot as pybot\n",
    "import time"
   ]
  },
  {
   "cell_type": "code",
   "execution_count": null,
   "id": "53ba0ff2",
   "metadata": {},
   "outputs": [],
   "source": [
    "C = ry.Config()\n",
    "C.view()\n",
    "C.addFile(\"../../rai-robotModels/scenarios/pandaSingle.g\")"
   ]
  },
  {
   "cell_type": "code",
   "execution_count": null,
   "id": "ae92d219",
   "metadata": {},
   "outputs": [],
   "source": [
    "#bot = pybot.BotOp(C, True)\n",
    "bot = pybot.BotOp(C, False)"
   ]
  },
  {
   "cell_type": "code",
   "execution_count": null,
   "id": "f1a09c68",
   "metadata": {},
   "outputs": [],
   "source": [
    "qHome = bot.get_q()\n",
    "q = bot.get_q()\n",
    "print(q)\n",
    "q[1] = q[1] - .2\n",
    "print(q)"
   ]
  },
  {
   "cell_type": "code",
   "execution_count": null,
   "id": "b393a9cc",
   "metadata": {},
   "outputs": [],
   "source": [
    "bot.move(q.reshape(1,7), [2])\n",
    "bot.move(qHome.reshape(1,7), [2])\n",
    "bot.move(q.reshape(1,7), [2])\n",
    "\n",
    "while bot.getTimeToEnd()>0:\n",
    "    bot.step(C, .1)\n",
    "    time.sleep(.1)"
   ]
  },
  {
   "cell_type": "code",
   "execution_count": null,
   "id": "6755b8b4",
   "metadata": {},
   "outputs": [],
   "source": [
    "bot.home(C)"
   ]
  },
  {
   "cell_type": "code",
   "execution_count": null,
   "id": "149251b8",
   "metadata": {},
   "outputs": [],
   "source": [
    "bot = 0\n",
    "C.view_close()\n",
    "C = 0"
   ]
  },
  {
   "cell_type": "code",
   "execution_count": null,
   "id": "600f9d49",
   "metadata": {},
   "outputs": [],
   "source": []
  }
 ],
 "metadata": {
  "kernelspec": {
   "display_name": "Python 3",
   "language": "python",
   "name": "python3"
  },
  "language_info": {
   "codemirror_mode": {
    "name": "ipython",
    "version": 3
   },
   "file_extension": ".py",
   "mimetype": "text/x-python",
   "name": "python",
   "nbconvert_exporter": "python",
   "pygments_lexer": "ipython3",
   "version": "3.6.9"
  }
 },
 "nbformat": 4,
 "nbformat_minor": 5
}
