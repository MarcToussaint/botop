{
 "cells": [
  {
   "cell_type": "code",
   "execution_count": 1,
   "id": "a68acc3a",
   "metadata": {},
   "outputs": [
    {
     "name": "stdout",
     "output_type": "stream",
     "text": [
      "3.6.9 (default, Jan 26 2021, 15:33:00) \n",
      "[GCC 8.4.0]\n",
      "**ry-c++-log** /home/mtoussai/git/botop/rai/rai/ry/ry.cpp:init_LogToPythonConsole:34(0) initializing ry log callback\n",
      "\n"
     ]
    }
   ],
   "source": [
    "import sys\n",
    "sys.path.append('../../build')\n",
    "print(sys.version)\n",
    "import numpy as np\n",
    "import libry as ry\n",
    "import libpybot as pybot\n",
    "import time"
   ]
  },
  {
   "cell_type": "code",
   "execution_count": 2,
   "id": "53ba0ff2",
   "metadata": {},
   "outputs": [],
   "source": [
    "C = ry.Config()\n",
    "C.view()\n",
    "C.addFile(\"../../rai-robotModels/scenarios/pandaSingle.g\")"
   ]
  },
  {
   "cell_type": "code",
   "execution_count": 3,
   "id": "ae92d219",
   "metadata": {},
   "outputs": [],
   "source": [
    "#bot = pybot.BotOp(C, True)\n",
    "bot = pybot.BotOp(C, False)"
   ]
  },
  {
   "cell_type": "code",
   "execution_count": null,
   "id": "f1a09c68",
   "metadata": {},
   "outputs": [],
   "source": [
    "qHome = bot.get_q()\n",
    "q = bot.get_q()\n",
    "print(q)\n",
    "q[1] = q[1] - .2\n",
    "print(q)"
   ]
  },
  {
   "cell_type": "code",
   "execution_count": null,
   "id": "b393a9cc",
   "metadata": {},
   "outputs": [],
   "source": [
    "bot.move(q.reshape(1,7), [2])\n",
    "bot.move(qHome.reshape(1,7), [2])\n",
    "bot.move(q.reshape(1,7), [2])\n",
    "\n",
    "while bot.getTimeToEnd()>0:\n",
    "    bot.step(C, .1)\n",
    "    time.sleep(.1)"
   ]
  },
  {
   "cell_type": "code",
   "execution_count": null,
   "id": "6755b8b4",
   "metadata": {},
   "outputs": [],
   "source": [
    "bot.home(C)"
   ]
  },
  {
   "cell_type": "code",
   "execution_count": null,
   "id": "149251b8",
   "metadata": {},
   "outputs": [],
   "source": [
    "bot = 0\n",
    "C.view_close()\n",
    "C = 0"
   ]
  },
  {
   "cell_type": "code",
   "execution_count": null,
   "id": "600f9d49",
   "metadata": {},
   "outputs": [],
   "source": []
  },
  {
   "cell_type": "code",
   "execution_count": 4,
   "id": "c1cd1238",
   "metadata": {},
   "outputs": [],
   "source": [
    "qHome = C.getJointState()\n",
    "q = qHome\n",
    "q[1] = q[1] - .2"
   ]
  },
  {
   "cell_type": "code",
   "execution_count": 6,
   "id": "cf68b4c7",
   "metadata": {},
   "outputs": [
    {
     "data": {
      "text/plain": [
       "array([[ 0.        , -0.50115407,  0.        , -2.        ,  0.        ,\n",
       "         2.        ,  0.        ],\n",
       "       [ 0.        , -0.50338783,  0.        , -2.        ,  0.        ,\n",
       "         2.        ,  0.        ],\n",
       "       [ 0.        , -0.5066269 ,  0.        , -2.        ,  0.        ,\n",
       "         2.        ,  0.        ],\n",
       "       [ 0.        , -0.51079677,  0.        , -2.        ,  0.        ,\n",
       "         2.        ,  0.        ],\n",
       "       [ 0.        , -0.51582282,  0.        , -2.        ,  0.        ,\n",
       "         2.        ,  0.        ],\n",
       "       [ 0.        , -0.52163012,  0.        , -2.        ,  0.        ,\n",
       "         2.        ,  0.        ],\n",
       "       [ 0.        , -0.5281434 ,  0.        , -2.        ,  0.        ,\n",
       "         2.        ,  0.        ],\n",
       "       [ 0.        , -0.5352869 ,  0.        , -2.        ,  0.        ,\n",
       "         2.        ,  0.        ],\n",
       "       [ 0.        , -0.54298426,  0.        , -2.        ,  0.        ,\n",
       "         2.        ,  0.        ],\n",
       "       [ 0.        , -0.55115834,  0.        , -2.        ,  0.        ,\n",
       "         2.        ,  0.        ],\n",
       "       [ 0.        , -0.55973117,  0.        , -2.        ,  0.        ,\n",
       "         2.        ,  0.        ],\n",
       "       [ 0.        , -0.5686238 ,  0.        , -2.        ,  0.        ,\n",
       "         2.        ,  0.        ],\n",
       "       [ 0.        , -0.57775615,  0.        , -2.        ,  0.        ,\n",
       "         2.        ,  0.        ],\n",
       "       [ 0.        , -0.58704697,  0.        , -2.        ,  0.        ,\n",
       "         2.        ,  0.        ],\n",
       "       [ 0.        , -0.59641838,  0.        , -2.        ,  0.        ,\n",
       "         2.        ,  0.        ],\n",
       "       [ 0.        , -0.60579545,  0.        , -2.        ,  0.        ,\n",
       "         2.        ,  0.        ],\n",
       "       [ 0.        , -0.61510581,  0.        , -2.        ,  0.        ,\n",
       "         2.        ,  0.        ],\n",
       "       [ 0.        , -0.62427926,  0.        , -2.        ,  0.        ,\n",
       "         2.        ,  0.        ],\n",
       "       [ 0.        , -0.63324739,  0.        , -2.        ,  0.        ,\n",
       "         2.        ,  0.        ],\n",
       "       [ 0.        , -0.64194325,  0.        , -2.        ,  0.        ,\n",
       "         2.        ,  0.        ],\n",
       "       [ 0.        , -0.6503011 ,  0.        , -2.        ,  0.        ,\n",
       "         2.        ,  0.        ],\n",
       "       [ 0.        , -0.65825382,  0.        , -2.        ,  0.        ,\n",
       "         2.        ,  0.        ],\n",
       "       [ 0.        , -0.6657331 ,  0.        , -2.        ,  0.        ,\n",
       "         2.        ,  0.        ],\n",
       "       [ 0.        , -0.67266949,  0.        , -2.        ,  0.        ,\n",
       "         2.        ,  0.        ],\n",
       "       [ 0.        , -0.67899251,  0.        , -2.        ,  0.        ,\n",
       "         2.        ,  0.        ],\n",
       "       [ 0.        , -0.68463078,  0.        , -2.        ,  0.        ,\n",
       "         2.        ,  0.        ],\n",
       "       [ 0.        , -0.68951222,  0.        , -2.        ,  0.        ,\n",
       "         2.        ,  0.        ],\n",
       "       [ 0.        , -0.69356408,  0.        , -2.        ,  0.        ,\n",
       "         2.        ,  0.        ],\n",
       "       [ 0.        , -0.69671319,  0.        , -2.        ,  0.        ,\n",
       "         2.        ,  0.        ],\n",
       "       [ 0.        , -0.69888602,  0.        , -2.        ,  0.        ,\n",
       "         2.        ,  0.        ],\n",
       "       [ 0.        , -0.70000882,  0.        , -2.        ,  0.        ,\n",
       "         2.        ,  0.        ],\n",
       "       [ 0.        , -0.70000769,  0.        , -2.        ,  0.        ,\n",
       "         2.        ,  0.        ]])"
      ]
     },
     "execution_count": 6,
     "metadata": {},
     "output_type": "execute_result"
    }
   ],
   "source": [
    "pybot.getStartGoalPath(C, qHome, q)"
   ]
  },
  {
   "cell_type": "code",
   "execution_count": null,
   "id": "0ffcd03e",
   "metadata": {},
   "outputs": [],
   "source": []
  }
 ],
 "metadata": {
  "kernelspec": {
   "display_name": "Python 3",
   "language": "python",
   "name": "python3"
  },
  "language_info": {
   "codemirror_mode": {
    "name": "ipython",
    "version": 3
   },
   "file_extension": ".py",
   "mimetype": "text/x-python",
   "name": "python",
   "nbconvert_exporter": "python",
   "pygments_lexer": "ipython3",
   "version": "3.6.9"
  }
 },
 "nbformat": 4,
 "nbformat_minor": 5
}
