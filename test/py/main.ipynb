{
 "cells": [
  {
   "cell_type": "code",
   "execution_count": null,
   "id": "a68acc3a",
   "metadata": {},
   "outputs": [],
   "source": [
    "import sys,os\n",
    "#sys.path.append(os.getenv(\"HOME\")+'/.local/lib')\n",
    "print(sys.path)\n",
    "print(sys.version)\n",
    "import numpy as np\n",
    "import ry\n",
    "#import libpybot as pybot\n",
    "import time"
   ]
  },
  {
   "cell_type": "code",
   "execution_count": null,
   "id": "65d98618",
   "metadata": {},
   "outputs": [],
   "source": [
    "print('-- ry version', ry.compiled())\n",
    "ry.params_print()"
   ]
  },
  {
   "cell_type": "code",
   "execution_count": null,
   "id": "53ba0ff2",
   "metadata": {},
   "outputs": [],
   "source": [
    "C = ry.Config()\n",
    "C.addFile(\"../../rai-robotModels/scenarios/pandaSingle.g\")\n",
    "C.view()"
   ]
  },
  {
   "cell_type": "code",
   "execution_count": null,
   "id": "ae92d219",
   "metadata": {},
   "outputs": [],
   "source": [
    "#bot = pybot.BotOp(C, True)\n",
    "bot = ry.BotOp(C, False)"
   ]
  },
  {
   "cell_type": "code",
   "execution_count": null,
   "id": "f1a09c68",
   "metadata": {},
   "outputs": [],
   "source": [
    "qHome = bot.get_q()\n",
    "q = bot.get_q()\n",
    "print(q)\n",
    "q[1] = q[1] - .2\n",
    "print(q)"
   ]
  },
  {
   "cell_type": "code",
   "execution_count": null,
   "id": "b393a9cc",
   "metadata": {},
   "outputs": [],
   "source": [
    "bot.move(q.reshape(1,7), [2])\n",
    "bot.move(qHome.reshape(1,7), [2])\n",
    "bot.move(q.reshape(1,7), [2])\n",
    "\n",
    "while bot.getTimeToEnd()>0:\n",
    "    bot.sync(C, .1)\n",
    "    if chr(bot.getKeyPressed()) == 'q':\n",
    "        break"
   ]
  },
  {
   "cell_type": "code",
   "execution_count": null,
   "id": "6755b8b4",
   "metadata": {},
   "outputs": [],
   "source": [
    "bot.home(C)"
   ]
  },
  {
   "cell_type": "code",
   "execution_count": null,
   "id": "149251b8",
   "metadata": {},
   "outputs": [],
   "source": [
    "C = 0\n",
    "bot = 0"
   ]
  },
  {
   "cell_type": "code",
   "execution_count": null,
   "id": "600f9d49",
   "metadata": {},
   "outputs": [],
   "source": []
  }
 ],
 "metadata": {
  "kernelspec": {
   "display_name": "Python 3 (ipykernel)",
   "language": "python",
   "name": "python3"
  },
  "language_info": {
   "codemirror_mode": {
    "name": "ipython",
    "version": 3
   },
   "file_extension": ".py",
   "mimetype": "text/x-python",
   "name": "python",
   "nbconvert_exporter": "python",
   "pygments_lexer": "ipython3",
   "version": "3.8.10"
  }
 },
 "nbformat": 4,
 "nbformat_minor": 5
}
